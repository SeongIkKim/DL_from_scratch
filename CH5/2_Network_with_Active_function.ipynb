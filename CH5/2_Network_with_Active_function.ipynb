{
 "cells": [
  {
   "cell_type": "code",
   "execution_count": 3,
   "metadata": {},
   "outputs": [],
   "source": [
    "# 신경망에 계산 그래프를 적용해보자.\n",
    "# 신경망을 구성하는 층(계층) 각각을 클래스 하나로 구현한다.\n",
    "# 우선 활성화 함수인 ReLU와 Sigmoid 계층을 구현해보자.\n",
    "\n",
    "import numpy as np"
   ]
  },
  {
   "cell_type": "code",
   "execution_count": 5,
   "metadata": {},
   "outputs": [
    {
     "name": "stdout",
     "output_type": "stream",
     "text": [
      "[[ 1.  -0.5]\n",
      " [-2.   3. ]]\n",
      "[[False  True]\n",
      " [ True False]]\n"
     ]
    }
   ],
   "source": [
    "# ReLU 계층\n",
    "# x>0 때 y=x, x<=0일때 y=0\n",
    "# 미분 시 x>0일때 y=1, x<=0일떄 y=0\n",
    "\n",
    "class ReLU:\n",
    "    def __init__(self):\n",
    "        self.mask = None # x가 0 이하면 True, 0 초과면 False를 할당하는 넘파이 배열\n",
    "    \n",
    "    def forward(self, x):\n",
    "        self.mask = (x <= 0) # 괄호 안의 값에 따라 True or False를 할당한다\n",
    "        out = x.copy() \n",
    "        out[self.mask] = 0\n",
    "        \n",
    "        return out\n",
    "    \n",
    "    def backward(self, dout):\n",
    "        dout[self.mask] = 0\n",
    "        dx = dout\n",
    "        \n",
    "        return dx\n",
    "    \n",
    "x = np.array([[1.0, -0.5], [-2.0, 3.0]])\n",
    "print(x)\n",
    "\n",
    "mask = (x <=0)\n",
    "print(mask) # 1.0, 3.0에는 False를, -0.5, -2.0에는 True를 할당\n",
    "\n",
    "\n",
    "# ReLU 계층은 전기 회로의 '스위치'에 비유할 수 있다. 순전파때 전류가 흐르고 있으면 스위치를 ON하고, 흐르지 않으면 OFF한다. 역전파때는 스위치가 ON이면 전류가 그대로 흐르고, 스위치가 OFF면 전류가 흐르지 않는다."
   ]
  },
  {
   "cell_type": "code",
   "execution_count": 8,
   "metadata": {},
   "outputs": [],
   "source": [
    "# Sigmoid 계층\n",
    "# *, exp, +, / 연산이 사용된다.\n",
    "# 1/x 미분은 -x^2과 같다.\n",
    "# exp(x) 미분은 exp(x)이다. \n",
    "# 자세한 역전파 과정은 책을 참조하자.\n",
    "\n",
    "class Sigmoid:\n",
    "    def __init__(self):\n",
    "        self.out = None\n",
    "    \n",
    "    # 순전파\n",
    "    def forward(self, x):\n",
    "        out = 1 / (1 + np.exp(-x)) # 시그모이드 함수식\n",
    "        self.out = out\n",
    "        \n",
    "        return out\n",
    "    \n",
    "    # 역전파\n",
    "    def backward(self, dout):\n",
    "        dx = dout * (1.0 - self.out) * self.out # (출력값 미분)*(-y(1-y))로 간소화 할 수 있다.\n",
    "        \n",
    "        return dx"
   ]
  },
  {
   "cell_type": "code",
   "execution_count": null,
   "metadata": {},
   "outputs": [],
   "source": []
  }
 ],
 "metadata": {
  "kernelspec": {
   "display_name": "Python 3",
   "language": "python",
   "name": "python3"
  },
  "language_info": {
   "codemirror_mode": {
    "name": "ipython",
    "version": 3
   },
   "file_extension": ".py",
   "mimetype": "text/x-python",
   "name": "python",
   "nbconvert_exporter": "python",
   "pygments_lexer": "ipython3",
   "version": "3.7.6"
  }
 },
 "nbformat": 4,
 "nbformat_minor": 4
}
