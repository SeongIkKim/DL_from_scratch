{
 "cells": [
  {
   "cell_type": "code",
   "execution_count": null,
   "metadata": {},
   "outputs": [],
   "source": [
    "# 지금까지 가중치 매개변수 W와 b에 대한 손실함수의 기울기를 구하는 방법으로 '수치 미분'을 배웠다.\n",
    "# '수치 미분'은 단순하고 구현하기 쉽지만, 계산 시간이 오래 걸린다는 단점이 있다.\n",
    "# 따라서 '수치 미분'보다 구현하기는 어렵지만, 계산이 더 효율적인 '오차역전파법backpropagation'을  배워보기로 한다.\n",
    "\n",
    "# 오차역전파법은 두 가지 방식으로 이해할 수 있다.\n",
    "'''\n",
    "1. 수식을 통해 이해 - 일반적인 방법\n",
    "2. 계산 그래프를 통해 이해 - 시각적인 방법\n",
    "'''"
   ]
  },
  {
   "cell_type": "code",
   "execution_count": null,
   "metadata": {},
   "outputs": [],
   "source": [
    "# 계산 그래프computational graph는 계산 과정을 그래프로 나타낸 것이다.\n",
    "# *그래프 : 복수의 노드node와 에지edge로 표현되는 자료구조\n",
    "\n",
    "# 계산 그래프의 출발점으로부터 종착점으로 전파한다면 순전파forward propagation라고 하고, 반대로 종착점에서 출발점으로 전파한다면 역전파backword propagation이라고 한다.\n",
    "\n",
    "# 계산 그래프의 이점 1\n",
    "# '국소적 계산'을 전파함으로써 최종 결과를 얻을 수 있다\n",
    "'''\n",
    "국소적 계산은 전체에서 어떤 일이 벌어지든 상관없이, 자신과 관계된 정보만으로 결과를 출력할 수 있다는 점이다.\n",
    "예를 들어, 슈퍼마켓에서 여러 식품을 구입할 경우, 모든 계산은 결국 (지금까지의 계산총액) + (추가적으로 살 물건 금액)이라는 두 피연산자와 하나의 연산자의 조합으로 분리해낼 수 있다.\n",
    "이처럼 복잡한 계산을 각 노드에서 국소적 계산의 조합으로 분리해낼 수 있다.\n",
    "'''\n",
    "\n",
    "# 계산 그래프의 이점 2\n",
    "# 역전파를 통해 미분을 효율적으로 계산할 수 있다.\n",
    "'''\n",
    "사과 가격이 오르면, 사과 갯수와 소비세를 모두 고려한 가격이 얼마나 오르는지 알고싶다고 가정하자.\n",
    "이는 '사과 가격에 대한 지불 금액의 미분'을 구하는 문제이다. 이 미분값은 사과 값이 '아주 조금' 올랐을 때 지불 금액이 얼마나 증가하느냐를 표시하는 것이다.\n",
    "역전파를 통하면 중간 과정과 최종적인 미분값들을 효과적으로 구할 수 있어, 다수의 미분을 효율적으로 구할 수 있다.\n",
    "'''"
   ]
  },
  {
   "cell_type": "code",
   "execution_count": null,
   "metadata": {},
   "outputs": [],
   "source": [
    "# 계산 그래프의 역전파\n",
    "# 뒤쪽 노드에서 국소적 미분을 곱한 후 앞쪽 노드로 전달한다. (순전파의 역계산)\n",
    "\n",
    "# 연쇄법칙chain rule\n",
    "# 합성 함수(여러 함수로 구성된 함수)의 미분에 대한 성질이며, 다음과 같이 정의된다.\n",
    "'합성 함수의 미분은 합성 함수를 구성하는 각 함수의 미분의 곱으로 나타낼 수 있다.'\n",
    "# 즉, 합성 함수 전체의 미분 값은 각 구성함수를 미분하여 그 값들을 곱하면 구할 수 있다. 역전파에서도 국소적 계산(미분)이 성립하는 것이다.\n",
    "\n",
    "# 덧셈 노드의 역전파\n",
    "# 덧셈 노드의 국소적 미분값은 1이므로 상류(그래프의 오른쪽)에서 하류(그래프의 왼쪽)으로 그대로 보내주면 된다.\n",
    "\n",
    "# 곱셈 노드의 역전파\n",
    "# z = xy의 식에서 국소적 미분값은 x에 대한 편미분:y, y에대한 편미분:x 이므로, 순전파 때 곱한 값과 '서로 바꾼값'을 곱해주는것이 역전파가 된다."
   ]
  },
  {
   "cell_type": "code",
   "execution_count": 4,
   "metadata": {},
   "outputs": [],
   "source": [
    "# 사과 쇼핑 구현\n",
    "\n",
    "# 곱셈 노드\n",
    "class MulLayer:\n",
    "    def __init__(self):\n",
    "        self.x = None\n",
    "        self.y = None\n",
    "    \n",
    "    # 순전파\n",
    "    def forward(self,x,y):\n",
    "        self.x = x\n",
    "        self.y = y\n",
    "        out = x * y\n",
    "        \n",
    "        return out\n",
    "    \n",
    "    # 역전파\n",
    "    def backward(self, dout):\n",
    "        dx = dout * self.y # x와 y를 바꾼다.\n",
    "        dy = dout * self.x\n",
    "        \n",
    "        return dx, dy"
   ]
  },
  {
   "cell_type": "code",
   "execution_count": 6,
   "metadata": {},
   "outputs": [
    {
     "name": "stdout",
     "output_type": "stream",
     "text": [
      "220.00000000000003\n",
      "2.2 110.00000000000001 200\n"
     ]
    }
   ],
   "source": [
    "apple = 100\n",
    "apple_num = 2\n",
    "tax = 1.1 # 소비세\n",
    "\n",
    "# 계층들\n",
    "mul_apple_layer = MulLayer() # 사과 갯수 곱하는 층\n",
    "mul_tax_layer = MulLayer() # 소비세 곱하는 층\n",
    "\n",
    "# 순전파\n",
    "apple_price = mul_apple_layer.forward(apple, apple_num) # 사과 * 갯수\n",
    "price = mul_tax_layer.forward(apple_price, tax) # (사과 * 갯수) * 소비세 = 총 가격\n",
    "\n",
    "print(price)\n",
    "\n",
    "# 역전파\n",
    "dprice = 1 # 상류(오른쪽)에서 온 값\n",
    "dapple_price, dtax = mul_tax_layer.backward(dprice) # 각각 (사과값*사과갯수)와 소비세에 대한 곱셈노드 국소적 미분\n",
    "dapple, dapple_num = mul_apple_layer.backward(dapple_price) # 사과 값과 사과 갯수에 대한 곱셈노드 국소적 미분\n",
    "\n",
    "print(dapple, dapple_num, dtax)"
   ]
  },
  {
   "cell_type": "code",
   "execution_count": 8,
   "metadata": {},
   "outputs": [],
   "source": [
    "# 덧셈 노드\n",
    "class AddLayer:\n",
    "    def __init__(self):\n",
    "        pass # 초기화가 필요없다.\n",
    "    \n",
    "    def forward(self, x, y):\n",
    "        out = x + y\n",
    "        return out\n",
    "    \n",
    "    def backward(self, dout):\n",
    "        dx = dout * 1 # 덧셈노드에 대한 미분값은 항상 1이다\n",
    "        dy = dout * 1\n",
    "        return dx, dy"
   ]
  },
  {
   "cell_type": "code",
   "execution_count": 25,
   "metadata": {},
   "outputs": [
    {
     "name": "stdout",
     "output_type": "stream",
     "text": [
      "715.0000000000001\n",
      "2.2 110.00000000000001 3.3000000000000003 165.0 650\n"
     ]
    }
   ],
   "source": [
    "apple = 100\n",
    "apple_num = 2\n",
    "orange = 150\n",
    "orange_num = 3\n",
    "tax = 1.1\n",
    "\n",
    "# 계층들\n",
    "mul_apple_layer = MulLayer() # 사과 갯수 곱하는 층 ---> (1)\n",
    "mul_orange_layer = MulLayer() # 오렌지 갯수 곱하는 층 ----> (2)\n",
    "# (1)과 (2) 계층은 반드시 분리해서 선언해야한다.(클래스 내에 x 속성과 y 속성을 기억하고 있으므로)\n",
    "add_fruits_layer= AddLayer() # 사과와 오렌지 더하는 층\n",
    "mul_tax_layer = MulLayer() # 소비세 곱하는 층\n",
    "\n",
    "# 순전파\n",
    "apple_price = mul_apple_layer.forward(apple, apple_num)\n",
    "orange_price = mul_orange_layer.forward(orange, orange_num)\n",
    "fruits_price = add_fruits_layer.forward(apple_price, orange_price)\n",
    "price = mul_tax_layer.forward(fruits_price, tax)\n",
    "\n",
    "print(price) # 최종 금액\n",
    "\n",
    "# 역전파\n",
    "dprice = 1\n",
    "dfruits_price, dtax = mul_tax_layer.backward(dprice)\n",
    "dapple_price, dorange_price = add_fruits_layer.backward(dfruits_price)\n",
    "dapple, dapple_num = mul_apple_layer.backward(dapple_price)\n",
    "dorange, dorange_num = mul_orange_layer.backward(dorange_price)\n",
    "\n",
    "print(dapple, dapple_num, dorange, dorange_num, dtax)"
   ]
  },
  {
   "cell_type": "code",
   "execution_count": null,
   "metadata": {},
   "outputs": [],
   "source": []
  }
 ],
 "metadata": {
  "kernelspec": {
   "display_name": "Python 3",
   "language": "python",
   "name": "python3"
  },
  "language_info": {
   "codemirror_mode": {
    "name": "ipython",
    "version": 3
   },
   "file_extension": ".py",
   "mimetype": "text/x-python",
   "name": "python",
   "nbconvert_exporter": "python",
   "pygments_lexer": "ipython3",
   "version": "3.7.6"
  }
 },
 "nbformat": 4,
 "nbformat_minor": 4
}
