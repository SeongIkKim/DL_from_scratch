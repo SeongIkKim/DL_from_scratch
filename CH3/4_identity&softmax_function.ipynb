{
 "cells": [
  {
   "cell_type": "code",
   "execution_count": 1,
   "metadata": {},
   "outputs": [],
   "source": [
    "# 항등 함수identity function는 입력 그대로를 출력한다.\n",
    "# 소프트맥수 함수softmax function의 출력은 모든 입력 신호로부터 영향을 받는다."
   ]
  },
  {
   "cell_type": "code",
   "execution_count": 3,
   "metadata": {},
   "outputs": [
    {
     "name": "stdout",
     "output_type": "stream",
     "text": [
      "[[ 1.34985881]\n",
      " [18.17414537]\n",
      " [54.59815003]]\n",
      "74.1221542101633\n",
      "[[0.01821127]\n",
      " [0.24519181]\n",
      " [0.73659691]]\n"
     ]
    }
   ],
   "source": [
    "import numpy as np\n",
    "\n",
    "a = np.array([[0.3],[2.9],[4.0]])\n",
    "\n",
    "exp_a = np.exp(a) # 지수 함수\n",
    "print(exp_a)\n",
    "\n",
    "sum_exp_a = np.sum(exp_a) # 지수 함수의 합\n",
    "print(sum_exp_a)\n",
    "\n",
    "y = exp_a / sum_exp_a\n",
    "print(y)"
   ]
  },
  {
   "cell_type": "code",
   "execution_count": 4,
   "metadata": {},
   "outputs": [],
   "source": [
    "# softmax 함수 일반화\n",
    "\n",
    "def softmax(a):\n",
    "    exp_a = np.exp(a)\n",
    "    sum_exp_a = np.sum(exp_a)\n",
    "    y = exp_a / sum_exp_a\n",
    "    \n",
    "    return y\n"
   ]
  },
  {
   "cell_type": "code",
   "execution_count": 6,
   "metadata": {},
   "outputs": [
    {
     "name": "stdout",
     "output_type": "stream",
     "text": [
      "[nan nan nan]\n",
      "[  0 -10 -20]\n",
      "[9.99954600e-01 4.53978686e-05 2.06106005e-09]\n"
     ]
    },
    {
     "name": "stderr",
     "output_type": "stream",
     "text": [
      "/Users/seongik/opt/anaconda3/lib/python3.7/site-packages/ipykernel_launcher.py:4: RuntimeWarning: overflow encountered in exp\n",
      "  after removing the cwd from sys.path.\n",
      "/Users/seongik/opt/anaconda3/lib/python3.7/site-packages/ipykernel_launcher.py:4: RuntimeWarning: invalid value encountered in true_divide\n",
      "  after removing the cwd from sys.path.\n"
     ]
    }
   ],
   "source": [
    "# 그러나 위의 식에서 지수함수는 급격하게 커지기 때문에, 컴퓨팅이 불가능한 오버플로 에러를 맞닥뜨릴수 있다.\n",
    "\n",
    "a = np.array([1010, 1000, 990])\n",
    "print(np.exp(a) / np.sum(np.exp(a))) # 오버플로우로 인한 계산 오류(nan - not a number)\n",
    "\n",
    "c = np.max(a) # c = 1010(최댓값)\n",
    "print(a-c)\n",
    "\n",
    "print(np.exp(a-c) / np.sum(np.exp(a - c))) # 최댓값을 빼주면 올바르게 계산됨"
   ]
  },
  {
   "cell_type": "code",
   "execution_count": 7,
   "metadata": {},
   "outputs": [],
   "source": [
    "# 따라서 다음과 같이 소프트맥스 함수를 개선하기로 한다.\n",
    "\n",
    "def softmax(a):\n",
    "    c = np.max(a)\n",
    "    exp_a = np.exp(a - c) # 오버플로 대책\n",
    "    sum_exp_a = np.sum(exp_a)\n",
    "    y = exp_a / sum_exp_a\n",
    "    \n",
    "    return y"
   ]
  },
  {
   "cell_type": "code",
   "execution_count": 8,
   "metadata": {},
   "outputs": [
    {
     "name": "stdout",
     "output_type": "stream",
     "text": [
      "[0.01821127 0.24519181 0.73659691]\n",
      "1.0\n"
     ]
    }
   ],
   "source": [
    "# 소프트맥스 함수를 이용한 신경망의 출력 계산\n",
    "\n",
    "a = np.array([0.3, 2.9, 4.0])\n",
    "y = softmax(a)\n",
    "print(y)\n",
    "print(np.sum(y)) # 출력 값 합은 1\n",
    "\n",
    "# 소프트맥스 함수의 출력은 0과 1 사이의 실수이다.\n",
    "# 소프트맥스 함수 출력의 총합은 반드시 1이다. 따라서, 소프트맥스 함수의 출력을 '확률'로 계산할 수 있다."
   ]
  },
  {
   "cell_type": "code",
   "execution_count": 9,
   "metadata": {},
   "outputs": [],
   "source": [
    "# 소프트맥스 함수를 적용해도 각 원소의 대소관계는 변하지 않는다. 따라서, a의 원소들 간의 대소관계가 y의 원소들 간의 대소관계로 그대로 이어진다.\n",
    "'''\n",
    "1. 신경망을 이용한 '분류'에서는 일반적으로 가장 큰 출력을 내는 뉴런에 해당하는 클래스로만 인식한다.\n",
    "2. 소프트맥스 함수를 적용해도 출력이 가장 큰 뉴런의 위치는 달라지지 않는다.\n",
    "'''\n",
    "# 따라서 1과 2를 조합하여, 신경망으로 분류할 때는 출력층의 소프트맥스 함수를 생략해도 된다는 것을 알 수 있다(출력직전층의 가장 큰 원소가 출력층에서도 가장 클 것이므로). 이를 통해 지수함수 계산에 드는 자원 낭비를 줄일 수 있다."
   ]
  },
  {
   "cell_type": "code",
   "execution_count": null,
   "metadata": {},
   "outputs": [],
   "source": [
    "# 출력층의 뉴런 수는 풀려는 문제에 맞게 적절히 정한다. 예를 들어, 분류에서는 분류하고 싶은 클래스 수로 설정하는 것이 일반적이다.\n",
    "# 0부터 9까지의 숫자로 분류하고 싶다면, 총 10개의 출력층 뉴런을 설정한다."
   ]
  }
 ],
 "metadata": {
  "kernelspec": {
   "display_name": "Python 3",
   "language": "python",
   "name": "python3"
  },
  "language_info": {
   "codemirror_mode": {
    "name": "ipython",
    "version": 3
   },
   "file_extension": ".py",
   "mimetype": "text/x-python",
   "name": "python",
   "nbconvert_exporter": "python",
   "pygments_lexer": "ipython3",
   "version": "3.7.6"
  }
 },
 "nbformat": 4,
 "nbformat_minor": 4
}
