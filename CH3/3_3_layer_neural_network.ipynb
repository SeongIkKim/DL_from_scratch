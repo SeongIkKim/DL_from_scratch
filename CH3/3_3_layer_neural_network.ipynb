{
 "cells": [
  {
   "cell_type": "code",
   "execution_count": 1,
   "metadata": {},
   "outputs": [],
   "source": [
    "# 3층 신경망 구현\n",
    "# 신경망의 순방향 처리 완성\n",
    "\n",
    "# A = WX + B"
   ]
  },
  {
   "cell_type": "code",
   "execution_count": 7,
   "metadata": {},
   "outputs": [
    {
     "name": "stdout",
     "output_type": "stream",
     "text": [
      "(2, 3)\n",
      "(2,)\n",
      "(3,)\n",
      "[0.3 0.7 1.1]\n"
     ]
    }
   ],
   "source": [
    "# 0층(입력층)->1층\n",
    "import numpy as np\n",
    "\n",
    "X = np.array([1.0,0.5]) # 입력 x1 = 1.0, x2 = 0.5\n",
    "W1 = np.array([[0.1, 0.3, 0.5],[0.2, 0.4, 0.6]]) # 1층 가중치 w1,w2,w3\n",
    "B1 = np.array([0.1, 0.2, 0.3]) # 1층 편향 b1, b2 ,b3\n",
    "\n",
    "print(W1.shape) # (2,3)\n",
    "print(X.shape) # (2,)\n",
    "print(B1.shape) # (3,)\n",
    "\n",
    "A1 = np.dot(X, W1) + B1 # A = X*W + B\n",
    "print(A1) "
   ]
  },
  {
   "cell_type": "code",
   "execution_count": 8,
   "metadata": {},
   "outputs": [
    {
     "name": "stdout",
     "output_type": "stream",
     "text": [
      "[0.3 0.7 1.1]\n",
      "[0.57444252 0.66818777 0.75026011]\n"
     ]
    }
   ],
   "source": [
    "# 은닉층에서의 가중치 합(가중 신호와 편향의 총합)을 a로 표기하고, 활성화 함수 h()로 변환된 정보를 z로 표기한다.\n",
    "# 이 때, 활성화 함수로는 시그모이드 함수를 사용하기로 한다.\n",
    "\n",
    "def sigmoid(x):\n",
    "    return 1 / (1 + np.exp(-x))\n",
    "\n",
    "Z1 = sigmoid(A1) # Z = h(A)\n",
    "\n",
    "print(A1)\n",
    "print(Z1)"
   ]
  },
  {
   "cell_type": "code",
   "execution_count": 10,
   "metadata": {},
   "outputs": [
    {
     "name": "stdout",
     "output_type": "stream",
     "text": [
      "(3,)\n",
      "(2, 3)\n",
      "(2,)\n",
      "[0.51615984 1.21402696]\n",
      "[0.62624937 0.7710107 ]\n"
     ]
    }
   ],
   "source": [
    "# 1층->2층\n",
    "\n",
    "W2 = np.array([[0.1, 0.4], [0.2, 0.5],[0.3, 0.6]])\n",
    "B2 = np.array([0.1, 0.2])\n",
    "\n",
    "print(Z1.shape) # (3,)\n",
    "print(W1.shape) # (3,2)\n",
    "print(B2.shape) # (2,)\n",
    "\n",
    "A2 = np.dot(Z1, W2) + B2\n",
    "print(A2)\n",
    "\n",
    "Z2 = sigmoid(A2)\n",
    "print(Z2)"
   ]
  },
  {
   "cell_type": "code",
   "execution_count": 12,
   "metadata": {},
   "outputs": [
    {
     "name": "stdout",
     "output_type": "stream",
     "text": [
      "[0.31682708 0.69627909]\n",
      "[0.31682708 0.69627909]\n"
     ]
    }
   ],
   "source": [
    "# 2층 -> 3층(출력층)\n",
    "# 활성화 함수가 은닉층과 다르다\n",
    "\n",
    "def identify_function(x): # 출력층의 활성화 함수를 여기서는 항등함수로 구현했음.\n",
    "    return x\n",
    "\n",
    "W3 = np.array([[0.1, 0.3], [0.2, 0.4]])\n",
    "B3 = np.array([0.1, 0.2])\n",
    "\n",
    "A3 = np.dot(Z2, W3) + B3\n",
    "print(A3)\n",
    "\n",
    "Y = identify_function(A3) # 혹은 Y = A3\n",
    "print(Y)"
   ]
  },
  {
   "cell_type": "code",
   "execution_count": null,
   "metadata": {},
   "outputs": [],
   "source": [
    "# 출력층의 활성화 함수는 풀고자 하는 문제의 성질에 맞게 정한다.\n",
    "'''\n",
    "회귀에는 항등 함수를,\n",
    "2클래스 분류에는 시그모이드 함수를,\n",
    "다중클래스 분류에는 소프트맥스 함수를 사용하는 것이 일반적이다.\n",
    "'''"
   ]
  },
  {
   "cell_type": "code",
   "execution_count": 16,
   "metadata": {},
   "outputs": [
    {
     "name": "stdout",
     "output_type": "stream",
     "text": [
      "[0.31611924 0.69472915]\n"
     ]
    }
   ],
   "source": [
    "# 지금까지의 구현 정리\n",
    "# convention : 가중치(W)만 대문자로 쓰고, 편향과 중간 결과 등은 모두 소문자로 쓴다.\n",
    "\n",
    "# 가중치와 편향을 초기화하는 함수\n",
    "def init_network():\n",
    "    network = {}\n",
    "    network['W1'] = np.array([[0.1, 0.3, 0.5], [0.1, 0.2, 0.6]])\n",
    "    network['b1'] = np.array([0.1, 0.2, 0.3])\n",
    "    network['W2'] = np.array([[0.1, 0.4], [0.2, 0.5], [0.3, 0.6]])\n",
    "    network['b2'] = np.array([0.1, 0.2])\n",
    "    network['W3'] = np.array([[0.1, 0.3], [0.2, 0.4]])\n",
    "    network['b3'] = np.array([0.1, 0.2])\n",
    "    \n",
    "    return network\n",
    "\n",
    "# 신호가 순방향(입력에서 출력 방향)으로 전달됨(순전파)\n",
    "def forward(network, x):\n",
    "    W1, W2, W3 = network['W1'], network['W2'], network['W3']\n",
    "    b1, b2, b3 = network['b1'], network['b2'], network['b3']\n",
    "    \n",
    "    a1 = np.dot(x, W1) + b1\n",
    "    z1 = sigmoid(a1)\n",
    "    a2 = np.dot(z1, W2) + b2\n",
    "    z2 = sigmoid(a2)\n",
    "    a3 = np.dot(z2, W3) + b3\n",
    "    y = identify_function(a3)\n",
    "    \n",
    "    return y\n",
    "\n",
    "network = init_network()\n",
    "x = np.array([1.0,0.5])\n",
    "y = forward(network, x)\n",
    "print(y)"
   ]
  },
  {
   "cell_type": "code",
   "execution_count": null,
   "metadata": {},
   "outputs": [],
   "source": [
    "# 기계학습 문제는 분류classification과 회귀regression으로 나뉜다.\n",
    "# 분류는 데이터가 어느 클래스에 속하는지 가르는 것이다. ex - 개와 고양이 구별\n",
    "# 회귀는 입력 데이터에서 연속적인 수치를 예측하는 것이다. ex - 사진 속 인물의 몸무게 추정(57.4kg이라던지)"
   ]
  }
 ],
 "metadata": {
  "kernelspec": {
   "display_name": "Python 3",
   "language": "python",
   "name": "python3"
  },
  "language_info": {
   "codemirror_mode": {
    "name": "ipython",
    "version": 3
   },
   "file_extension": ".py",
   "mimetype": "text/x-python",
   "name": "python",
   "nbconvert_exporter": "python",
   "pygments_lexer": "ipython3",
   "version": "3.7.6"
  }
 },
 "nbformat": 4,
 "nbformat_minor": 4
}
