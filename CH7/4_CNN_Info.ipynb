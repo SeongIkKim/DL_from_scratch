{
 "cells": [
  {
   "cell_type": "code",
   "execution_count": 1,
   "metadata": {},
   "outputs": [],
   "source": [
    "# CNN 층 깊이에 따른 추출 정보 변화\n",
    "\n",
    "# 일반 사물 인식을 수행한 8층의 AlexNet CNN을 보면, 층이 깊어지면서 더 복잡하고 추상화된 정보를 추출하는 것을 알 수 있다.\n",
    "# 처음 층은 단순한 에지에 반응하고, 이어서 텍스쳐에 반응하고, 더 복잡한 사물의 일부에 반응하도록 변화해간다.\n",
    "# 즉, 층이 깊어지면서 뉴런이 반응하는 모양이 단순한 모양에서 '고급' 정보로 바뀌어간다.\n",
    "# 다시 말하면 '사물의 의미'를 이해하도록 변화하는 것이다."
   ]
  },
  {
   "cell_type": "code",
   "execution_count": null,
   "metadata": {},
   "outputs": [],
   "source": [
    "# 대표적인 CNN\n",
    "\n",
    "# LeNet(1998)\n",
    "'''\n",
    "CNN의 원조\n",
    "손글씨 숫자를 인식하는 네트워크\n",
    "합성곱 계층과 풀링 계층을 반복하고 마지막으로 완전연결 계층을 거치면서 결과출력\n",
    "활성화 함수로는 시그모이드 함수 사용 (현재는 대부분 ReLU함수 사용)\n",
    "풀링 기법으로 서브샘플링 사용 (현재는 대부분 최대 풀링 사용)\n",
    "'''\n",
    "\n",
    "# AlexNet\n",
    "'''\n",
    "딥러닝이 주목받도록 이끈 일등공신\n",
    "합성곱 계층과 풀링 계층을 반복하고 마지막으로 완전연결 계층을 거치면서 결과출력\n",
    "활성화 함수로 ReLU함수 사용\n",
    "LRN(Local Response Normalization)이라는 국소적 정규화를 실시하는 계층을 이용\n",
    "드롭아웃 사용\n",
    "'''\n",
    "\n",
    "# 딥러닝(심층 신경망)에는 대부분 수많은 매개변수가 쓰이므로, 이를 학습하려면 엄청난 양의 계산이 필요하다. 또한, 그 매개변수를 피팅시킬 데이터도 대량으로 필요하다.\n",
    "# 따라서 GPU(계산)과 빅데이터(데이터)의 발전이 딥러닝의 발전을 이끌었다고 할 수 있다."
   ]
  },
  {
   "cell_type": "code",
   "execution_count": null,
   "metadata": {},
   "outputs": [],
   "source": [
    "# 이번장에서 배운 내용 정리\n",
    "\n",
    "# CNN은 지금까지의 완전연결 계층 네트워크에 합성곱 계층과 풀링 계층을 새로 추가한다\n",
    "# 합성곱 계층과 풀링 계층은 im2col(이미지를 행렬로 전개하는 함수)을 이용하면 간단하고 효율적으로 구현할 수 있다.\n",
    "# CNN을 시각화해보면 계층이 깊어질수록 고급 정보가 추출되는 모습을 알 수 있다.\n",
    "# 대표적인 CNN에는 LeNet과 AlexNet이 있다.\n",
    "# 딥러닝의 발전에는 빅데이터와 GPU가 크게 기여했다."
   ]
  }
 ],
 "metadata": {
  "kernelspec": {
   "display_name": "Python 3",
   "language": "python",
   "name": "python3"
  },
  "language_info": {
   "codemirror_mode": {
    "name": "ipython",
    "version": 3
   },
   "file_extension": ".py",
   "mimetype": "text/x-python",
   "name": "python",
   "nbconvert_exporter": "python",
   "pygments_lexer": "ipython3",
   "version": "3.7.6"
  }
 },
 "nbformat": 4,
 "nbformat_minor": 4
}
