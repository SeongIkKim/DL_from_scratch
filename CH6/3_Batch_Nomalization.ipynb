{
 "cells": [
  {
   "cell_type": "code",
   "execution_count": null,
   "metadata": {},
   "outputs": [],
   "source": [
    "# 가중치의 초깃값을 적절히 설정하면 활성화값 분포가 적당히 퍼지면서 학습이 원활하게 수행된다.\n",
    "# 그렇다면 각 층의 활성화를 적당히 퍼뜨리도록 '강제'하는 방법은 없을까?\n",
    "# 배치 정규화Batch Nomalizaiton가 그런 역할을 한다.\n",
    "'''\n",
    "학습을 빨리 진행할 수 있다(학습 속도 개선)\n",
    "초깃값에 크게 의존하지 않는다(초깃값을 정하느라 골머리 앓을 필요가 없다)\n",
    "오버피팅을 억제한다(드롭아웃 등의 필요성 감소)\n",
    "'''\n",
    "\n",
    "# 각 층에서의 활성화값 분포가 평균이 0, 분산이 1 되도록 정규화한다."
   ]
  },
  {
   "cell_type": "code",
   "execution_count": 2,
   "metadata": {},
   "outputs": [
    {
     "name": "stdout",
     "output_type": "stream",
     "text": [
      "============== 1/16 ==============\n",
      "epoch:0 | 0.099 - 0.077\n",
      "epoch:1 | 0.097 - 0.059\n",
      "epoch:2 | 0.097 - 0.09\n"
     ]
    },
    {
     "name": "stderr",
     "output_type": "stream",
     "text": [
      "../common/multi_layer_net_extend.py:101: RuntimeWarning: overflow encountered in square\n",
      "  weight_decay += 0.5 * self.weight_decay_lambda * np.sum(W**2)\n",
      "../common/multi_layer_net_extend.py:101: RuntimeWarning: invalid value encountered in double_scalars\n",
      "  weight_decay += 0.5 * self.weight_decay_lambda * np.sum(W**2)\n",
      "../common/functions.py:32: RuntimeWarning: invalid value encountered in subtract\n",
      "  x = x - np.max(x, axis=-1, keepdims=True)   # オーバーフロー対策\n",
      "../common/layers.py:12: RuntimeWarning: invalid value encountered in less_equal\n",
      "  self.mask = (x <= 0)\n"
     ]
    },
    {
     "name": "stdout",
     "output_type": "stream",
     "text": [
      "epoch:3 | 0.097 - 0.116\n",
      "epoch:4 | 0.097 - 0.13\n",
      "epoch:5 | 0.097 - 0.14\n",
      "epoch:6 | 0.097 - 0.154\n",
      "epoch:7 | 0.097 - 0.176\n",
      "epoch:8 | 0.097 - 0.195\n",
      "epoch:9 | 0.097 - 0.22\n",
      "epoch:10 | 0.097 - 0.243\n",
      "epoch:11 | 0.097 - 0.26\n",
      "epoch:12 | 0.097 - 0.276\n",
      "epoch:13 | 0.097 - 0.301\n",
      "epoch:14 | 0.097 - 0.312\n",
      "epoch:15 | 0.097 - 0.323\n",
      "epoch:16 | 0.097 - 0.337\n",
      "epoch:17 | 0.097 - 0.352\n"
     ]
    },
    {
     "name": "stderr",
     "output_type": "stream",
     "text": [
      "No handles with labels found to put in legend.\n"
     ]
    },
    {
     "name": "stdout",
     "output_type": "stream",
     "text": [
      "epoch:18 | 0.097 - 0.373\n",
      "epoch:19 | 0.097 - 0.385\n",
      "============== 2/16 ==============\n",
      "epoch:0 | 0.094 - 0.062\n",
      "epoch:1 | 0.097 - 0.078\n"
     ]
    },
    {
     "name": "stderr",
     "output_type": "stream",
     "text": [
      "../common/layers.py:12: RuntimeWarning: invalid value encountered in less_equal\n",
      "  self.mask = (x <= 0)\n",
      "../common/multi_layer_net_extend.py:101: RuntimeWarning: overflow encountered in square\n",
      "  weight_decay += 0.5 * self.weight_decay_lambda * np.sum(W**2)\n",
      "../common/multi_layer_net_extend.py:101: RuntimeWarning: invalid value encountered in double_scalars\n",
      "  weight_decay += 0.5 * self.weight_decay_lambda * np.sum(W**2)\n"
     ]
    },
    {
     "name": "stdout",
     "output_type": "stream",
     "text": [
      "epoch:2 | 0.097 - 0.115\n",
      "epoch:3 | 0.097 - 0.141\n",
      "epoch:4 | 0.097 - 0.165\n",
      "epoch:5 | 0.097 - 0.187\n",
      "epoch:6 | 0.097 - 0.213\n",
      "epoch:7 | 0.097 - 0.242\n",
      "epoch:8 | 0.097 - 0.281\n",
      "epoch:9 | 0.097 - 0.311\n",
      "epoch:10 | 0.097 - 0.336\n",
      "epoch:11 | 0.097 - 0.346\n",
      "epoch:12 | 0.097 - 0.364\n",
      "epoch:13 | 0.097 - 0.383\n",
      "epoch:14 | 0.097 - 0.402\n",
      "epoch:15 | 0.097 - 0.42\n",
      "epoch:16 | 0.097 - 0.427\n",
      "epoch:17 | 0.097 - 0.451\n"
     ]
    },
    {
     "name": "stderr",
     "output_type": "stream",
     "text": [
      "No handles with labels found to put in legend.\n"
     ]
    },
    {
     "name": "stdout",
     "output_type": "stream",
     "text": [
      "epoch:18 | 0.097 - 0.473\n",
      "epoch:19 | 0.097 - 0.486\n",
      "============== 3/16 ==============\n",
      "epoch:0 | 0.105 - 0.101\n",
      "epoch:1 | 0.34 - 0.13\n",
      "epoch:2 | 0.433 - 0.135\n",
      "epoch:3 | 0.536 - 0.159\n",
      "epoch:4 | 0.595 - 0.181\n",
      "epoch:5 | 0.646 - 0.225\n",
      "epoch:6 | 0.687 - 0.262\n",
      "epoch:7 | 0.72 - 0.317\n",
      "epoch:8 | 0.767 - 0.355\n",
      "epoch:9 | 0.793 - 0.398\n",
      "epoch:10 | 0.82 - 0.438\n",
      "epoch:11 | 0.838 - 0.478\n",
      "epoch:12 | 0.852 - 0.52\n",
      "epoch:13 | 0.872 - 0.532\n",
      "epoch:14 | 0.888 - 0.566\n",
      "epoch:15 | 0.898 - 0.585\n",
      "epoch:16 | 0.918 - 0.612\n"
     ]
    },
    {
     "name": "stderr",
     "output_type": "stream",
     "text": [
      "No handles with labels found to put in legend.\n"
     ]
    },
    {
     "name": "stdout",
     "output_type": "stream",
     "text": [
      "epoch:17 | 0.924 - 0.624\n",
      "epoch:18 | 0.914 - 0.638\n",
      "epoch:19 | 0.949 - 0.655\n",
      "============== 4/16 ==============\n",
      "epoch:0 | 0.118 - 0.096\n",
      "epoch:1 | 0.262 - 0.109\n",
      "epoch:2 | 0.4 - 0.177\n",
      "epoch:3 | 0.473 - 0.261\n",
      "epoch:4 | 0.52 - 0.33\n",
      "epoch:5 | 0.592 - 0.394\n",
      "epoch:6 | 0.631 - 0.466\n",
      "epoch:7 | 0.666 - 0.507\n",
      "epoch:8 | 0.691 - 0.548\n",
      "epoch:9 | 0.71 - 0.583\n",
      "epoch:10 | 0.731 - 0.616\n",
      "epoch:11 | 0.753 - 0.637\n",
      "epoch:12 | 0.76 - 0.663\n",
      "epoch:13 | 0.764 - 0.691\n",
      "epoch:14 | 0.791 - 0.711\n",
      "epoch:15 | 0.809 - 0.732\n",
      "epoch:16 | 0.808 - 0.749\n",
      "epoch:17 | 0.822 - 0.766\n"
     ]
    },
    {
     "name": "stderr",
     "output_type": "stream",
     "text": [
      "No handles with labels found to put in legend.\n"
     ]
    },
    {
     "name": "stdout",
     "output_type": "stream",
     "text": [
      "epoch:18 | 0.823 - 0.771\n",
      "epoch:19 | 0.843 - 0.782\n",
      "============== 5/16 ==============\n",
      "epoch:0 | 0.112 - 0.103\n",
      "epoch:1 | 0.113 - 0.224\n",
      "epoch:2 | 0.116 - 0.412\n",
      "epoch:3 | 0.12 - 0.513\n",
      "epoch:4 | 0.122 - 0.571\n",
      "epoch:5 | 0.128 - 0.624\n",
      "epoch:6 | 0.132 - 0.662\n",
      "epoch:7 | 0.135 - 0.699\n",
      "epoch:8 | 0.144 - 0.74\n",
      "epoch:9 | 0.154 - 0.744\n",
      "epoch:10 | 0.165 - 0.778\n",
      "epoch:11 | 0.168 - 0.791\n",
      "epoch:12 | 0.189 - 0.803\n",
      "epoch:13 | 0.203 - 0.82\n",
      "epoch:14 | 0.23 - 0.841\n",
      "epoch:15 | 0.243 - 0.848\n",
      "epoch:16 | 0.251 - 0.851\n",
      "epoch:17 | 0.278 - 0.862\n",
      "epoch:18 | 0.302 - 0.872\n"
     ]
    },
    {
     "name": "stderr",
     "output_type": "stream",
     "text": [
      "No handles with labels found to put in legend.\n"
     ]
    },
    {
     "name": "stdout",
     "output_type": "stream",
     "text": [
      "epoch:19 | 0.325 - 0.893\n",
      "============== 6/16 ==============\n",
      "epoch:0 | 0.093 - 0.082\n",
      "epoch:1 | 0.119 - 0.222\n",
      "epoch:2 | 0.117 - 0.394\n",
      "epoch:3 | 0.117 - 0.542\n",
      "epoch:4 | 0.117 - 0.64\n",
      "epoch:5 | 0.117 - 0.693\n",
      "epoch:6 | 0.117 - 0.742\n",
      "epoch:7 | 0.119 - 0.773\n",
      "epoch:8 | 0.117 - 0.793\n",
      "epoch:9 | 0.125 - 0.82\n",
      "epoch:10 | 0.145 - 0.841\n",
      "epoch:11 | 0.116 - 0.861\n",
      "epoch:12 | 0.183 - 0.875\n",
      "epoch:13 | 0.118 - 0.892\n",
      "epoch:14 | 0.117 - 0.892\n",
      "epoch:15 | 0.117 - 0.903\n",
      "epoch:16 | 0.184 - 0.916\n"
     ]
    },
    {
     "name": "stderr",
     "output_type": "stream",
     "text": [
      "No handles with labels found to put in legend.\n"
     ]
    },
    {
     "name": "stdout",
     "output_type": "stream",
     "text": [
      "epoch:17 | 0.185 - 0.923\n",
      "epoch:18 | 0.171 - 0.928\n",
      "epoch:19 | 0.185 - 0.939\n",
      "============== 7/16 ==============\n",
      "epoch:0 | 0.092 - 0.102\n",
      "epoch:1 | 0.117 - 0.261\n",
      "epoch:2 | 0.117 - 0.565\n",
      "epoch:3 | 0.117 - 0.673\n",
      "epoch:4 | 0.117 - 0.724\n",
      "epoch:5 | 0.117 - 0.763\n",
      "epoch:6 | 0.117 - 0.789\n",
      "epoch:7 | 0.117 - 0.824\n",
      "epoch:8 | 0.117 - 0.839\n",
      "epoch:9 | 0.117 - 0.877\n",
      "epoch:10 | 0.117 - 0.898\n",
      "epoch:11 | 0.117 - 0.925\n",
      "epoch:12 | 0.117 - 0.954\n",
      "epoch:13 | 0.117 - 0.959\n",
      "epoch:14 | 0.117 - 0.972\n",
      "epoch:15 | 0.117 - 0.976\n",
      "epoch:16 | 0.117 - 0.983\n",
      "epoch:17 | 0.117 - 0.987\n",
      "epoch:18 | 0.117 - 0.991\n"
     ]
    },
    {
     "name": "stderr",
     "output_type": "stream",
     "text": [
      "No handles with labels found to put in legend.\n"
     ]
    },
    {
     "name": "stdout",
     "output_type": "stream",
     "text": [
      "epoch:19 | 0.117 - 0.995\n",
      "============== 8/16 ==============\n",
      "epoch:0 | 0.104 - 0.118\n",
      "epoch:1 | 0.116 - 0.481\n",
      "epoch:2 | 0.116 - 0.699\n",
      "epoch:3 | 0.116 - 0.776\n",
      "epoch:4 | 0.116 - 0.821\n",
      "epoch:5 | 0.116 - 0.836\n",
      "epoch:6 | 0.116 - 0.872\n",
      "epoch:7 | 0.116 - 0.895\n",
      "epoch:8 | 0.116 - 0.916\n",
      "epoch:9 | 0.116 - 0.938\n",
      "epoch:10 | 0.116 - 0.939\n",
      "epoch:11 | 0.116 - 0.962\n",
      "epoch:12 | 0.116 - 0.981\n",
      "epoch:13 | 0.116 - 0.99\n",
      "epoch:14 | 0.116 - 0.996\n",
      "epoch:15 | 0.116 - 0.998\n",
      "epoch:16 | 0.116 - 1.0\n",
      "epoch:17 | 0.116 - 0.999\n"
     ]
    },
    {
     "name": "stderr",
     "output_type": "stream",
     "text": [
      "No handles with labels found to put in legend.\n"
     ]
    },
    {
     "name": "stdout",
     "output_type": "stream",
     "text": [
      "epoch:18 | 0.116 - 1.0\n",
      "epoch:19 | 0.116 - 1.0\n",
      "============== 9/16 ==============\n",
      "epoch:0 | 0.094 - 0.121\n",
      "epoch:1 | 0.117 - 0.387\n",
      "epoch:2 | 0.117 - 0.644\n",
      "epoch:3 | 0.117 - 0.737\n",
      "epoch:4 | 0.117 - 0.854\n",
      "epoch:5 | 0.116 - 0.881\n",
      "epoch:6 | 0.117 - 0.938\n",
      "epoch:7 | 0.117 - 0.969\n",
      "epoch:8 | 0.116 - 0.977\n",
      "epoch:9 | 0.117 - 0.971\n",
      "epoch:10 | 0.116 - 0.983\n",
      "epoch:11 | 0.116 - 0.988\n",
      "epoch:12 | 0.116 - 0.997\n",
      "epoch:13 | 0.116 - 0.998\n",
      "epoch:14 | 0.116 - 0.997\n",
      "epoch:15 | 0.116 - 1.0\n",
      "epoch:16 | 0.116 - 1.0\n"
     ]
    },
    {
     "name": "stderr",
     "output_type": "stream",
     "text": [
      "No handles with labels found to put in legend.\n"
     ]
    },
    {
     "name": "stdout",
     "output_type": "stream",
     "text": [
      "epoch:17 | 0.116 - 1.0\n",
      "epoch:18 | 0.116 - 1.0\n",
      "epoch:19 | 0.116 - 1.0\n",
      "============== 10/16 ==============\n",
      "epoch:0 | 0.105 - 0.103\n",
      "epoch:1 | 0.116 - 0.545\n",
      "epoch:2 | 0.117 - 0.702\n",
      "epoch:3 | 0.117 - 0.794\n",
      "epoch:4 | 0.117 - 0.852\n",
      "epoch:5 | 0.117 - 0.859\n",
      "epoch:6 | 0.117 - 0.883\n",
      "epoch:7 | 0.117 - 0.85\n",
      "epoch:8 | 0.116 - 0.926\n",
      "epoch:9 | 0.117 - 0.93\n",
      "epoch:10 | 0.117 - 0.926\n",
      "epoch:11 | 0.116 - 0.923\n",
      "epoch:12 | 0.116 - 0.941\n",
      "epoch:13 | 0.116 - 0.992\n",
      "epoch:14 | 0.116 - 0.992\n",
      "epoch:15 | 0.116 - 0.987\n",
      "epoch:16 | 0.116 - 0.99\n",
      "epoch:17 | 0.117 - 0.996\n",
      "epoch:18 | 0.117 - 0.997\n"
     ]
    },
    {
     "name": "stderr",
     "output_type": "stream",
     "text": [
      "No handles with labels found to put in legend.\n"
     ]
    },
    {
     "name": "stdout",
     "output_type": "stream",
     "text": [
      "epoch:19 | 0.117 - 0.997\n",
      "============== 11/16 ==============\n",
      "epoch:0 | 0.117 - 0.111\n",
      "epoch:1 | 0.117 - 0.403\n",
      "epoch:2 | 0.117 - 0.619\n",
      "epoch:3 | 0.117 - 0.748\n",
      "epoch:4 | 0.117 - 0.729\n",
      "epoch:5 | 0.117 - 0.838\n",
      "epoch:6 | 0.116 - 0.865\n",
      "epoch:7 | 0.116 - 0.948\n",
      "epoch:8 | 0.116 - 0.917\n",
      "epoch:9 | 0.116 - 0.956\n",
      "epoch:10 | 0.116 - 0.975\n",
      "epoch:11 | 0.116 - 0.964\n",
      "epoch:12 | 0.116 - 0.989\n",
      "epoch:13 | 0.116 - 0.985\n",
      "epoch:14 | 0.116 - 0.994\n",
      "epoch:15 | 0.116 - 0.994\n",
      "epoch:16 | 0.116 - 0.994\n",
      "epoch:17 | 0.117 - 0.996\n",
      "epoch:18 | 0.117 - 0.997\n"
     ]
    },
    {
     "name": "stderr",
     "output_type": "stream",
     "text": [
      "No handles with labels found to put in legend.\n"
     ]
    },
    {
     "name": "stdout",
     "output_type": "stream",
     "text": [
      "epoch:19 | 0.117 - 0.997\n",
      "============== 12/16 ==============\n",
      "epoch:0 | 0.105 - 0.234\n",
      "epoch:1 | 0.116 - 0.451\n",
      "epoch:2 | 0.116 - 0.704\n",
      "epoch:3 | 0.117 - 0.521\n",
      "epoch:4 | 0.117 - 0.76\n",
      "epoch:5 | 0.116 - 0.771\n",
      "epoch:6 | 0.117 - 0.778\n",
      "epoch:7 | 0.116 - 0.789\n",
      "epoch:8 | 0.116 - 0.787\n",
      "epoch:9 | 0.116 - 0.797\n",
      "epoch:10 | 0.117 - 0.781\n",
      "epoch:11 | 0.117 - 0.795\n",
      "epoch:12 | 0.117 - 0.8\n",
      "epoch:13 | 0.117 - 0.794\n",
      "epoch:14 | 0.117 - 0.802\n",
      "epoch:15 | 0.117 - 0.803\n",
      "epoch:16 | 0.116 - 0.796\n"
     ]
    },
    {
     "name": "stderr",
     "output_type": "stream",
     "text": [
      "No handles with labels found to put in legend.\n"
     ]
    },
    {
     "name": "stdout",
     "output_type": "stream",
     "text": [
      "epoch:17 | 0.116 - 0.8\n",
      "epoch:18 | 0.116 - 0.804\n",
      "epoch:19 | 0.116 - 0.803\n",
      "============== 13/16 ==============\n",
      "epoch:0 | 0.097 - 0.146\n",
      "epoch:1 | 0.116 - 0.537\n",
      "epoch:2 | 0.116 - 0.583\n",
      "epoch:3 | 0.116 - 0.626\n",
      "epoch:4 | 0.117 - 0.677\n",
      "epoch:5 | 0.117 - 0.684\n",
      "epoch:6 | 0.117 - 0.623\n",
      "epoch:7 | 0.117 - 0.692\n",
      "epoch:8 | 0.117 - 0.708\n",
      "epoch:9 | 0.117 - 0.713\n",
      "epoch:10 | 0.117 - 0.715\n",
      "epoch:11 | 0.117 - 0.721\n",
      "epoch:12 | 0.117 - 0.709\n",
      "epoch:13 | 0.117 - 0.719\n",
      "epoch:14 | 0.117 - 0.718\n",
      "epoch:15 | 0.117 - 0.747\n",
      "epoch:16 | 0.117 - 0.79\n",
      "epoch:17 | 0.116 - 0.799\n",
      "epoch:18 | 0.117 - 0.803\n"
     ]
    },
    {
     "name": "stderr",
     "output_type": "stream",
     "text": [
      "No handles with labels found to put in legend.\n"
     ]
    },
    {
     "name": "stdout",
     "output_type": "stream",
     "text": [
      "epoch:19 | 0.117 - 0.81\n",
      "============== 14/16 ==============\n",
      "epoch:0 | 0.117 - 0.151\n",
      "epoch:1 | 0.117 - 0.282\n",
      "epoch:2 | 0.116 - 0.436\n",
      "epoch:3 | 0.117 - 0.476\n",
      "epoch:4 | 0.117 - 0.47\n",
      "epoch:5 | 0.116 - 0.442\n",
      "epoch:6 | 0.116 - 0.491\n",
      "epoch:7 | 0.116 - 0.491\n",
      "epoch:8 | 0.116 - 0.508\n",
      "epoch:9 | 0.116 - 0.518\n",
      "epoch:10 | 0.116 - 0.507\n",
      "epoch:11 | 0.117 - 0.509\n",
      "epoch:12 | 0.117 - 0.511\n",
      "epoch:13 | 0.117 - 0.513\n",
      "epoch:14 | 0.117 - 0.519\n",
      "epoch:15 | 0.116 - 0.595\n",
      "epoch:16 | 0.117 - 0.576\n"
     ]
    },
    {
     "name": "stderr",
     "output_type": "stream",
     "text": [
      "No handles with labels found to put in legend.\n"
     ]
    },
    {
     "name": "stdout",
     "output_type": "stream",
     "text": [
      "epoch:17 | 0.116 - 0.524\n",
      "epoch:18 | 0.117 - 0.579\n",
      "epoch:19 | 0.116 - 0.601\n",
      "============== 15/16 ==============\n",
      "epoch:0 | 0.116 - 0.109\n",
      "epoch:1 | 0.117 - 0.359\n",
      "epoch:2 | 0.117 - 0.489\n",
      "epoch:3 | 0.117 - 0.499\n",
      "epoch:4 | 0.117 - 0.505\n",
      "epoch:5 | 0.117 - 0.498\n",
      "epoch:6 | 0.116 - 0.513\n",
      "epoch:7 | 0.116 - 0.5\n",
      "epoch:8 | 0.116 - 0.518\n",
      "epoch:9 | 0.116 - 0.515\n",
      "epoch:10 | 0.116 - 0.508\n",
      "epoch:11 | 0.116 - 0.518\n",
      "epoch:12 | 0.116 - 0.519\n",
      "epoch:13 | 0.116 - 0.521\n",
      "epoch:14 | 0.116 - 0.521\n",
      "epoch:15 | 0.116 - 0.52\n",
      "epoch:16 | 0.116 - 0.518\n",
      "epoch:17 | 0.116 - 0.52\n"
     ]
    },
    {
     "name": "stderr",
     "output_type": "stream",
     "text": [
      "No handles with labels found to put in legend.\n"
     ]
    },
    {
     "name": "stdout",
     "output_type": "stream",
     "text": [
      "epoch:18 | 0.116 - 0.516\n",
      "epoch:19 | 0.116 - 0.52\n",
      "============== 16/16 ==============\n",
      "epoch:0 | 0.092 - 0.152\n",
      "epoch:1 | 0.117 - 0.308\n",
      "epoch:2 | 0.117 - 0.421\n",
      "epoch:3 | 0.116 - 0.471\n",
      "epoch:4 | 0.116 - 0.494\n",
      "epoch:5 | 0.116 - 0.498\n",
      "epoch:6 | 0.116 - 0.498\n",
      "epoch:7 | 0.116 - 0.474\n",
      "epoch:8 | 0.116 - 0.488\n",
      "epoch:9 | 0.116 - 0.494\n",
      "epoch:10 | 0.116 - 0.531\n",
      "epoch:11 | 0.116 - 0.521\n",
      "epoch:12 | 0.116 - 0.512\n",
      "epoch:13 | 0.116 - 0.516\n",
      "epoch:14 | 0.116 - 0.513\n",
      "epoch:15 | 0.116 - 0.519\n",
      "epoch:16 | 0.116 - 0.52\n",
      "epoch:17 | 0.116 - 0.515\n",
      "epoch:18 | 0.117 - 0.528\n",
      "epoch:19 | 0.116 - 0.524\n"
     ]
    },
    {
     "data": {
      "image/png": "[encoded data removed]",
      "text/plain": [
       "<Figure size 432x288 with 16 Axes>"
      ]
     },
     "metadata": {
      "needs_background": "light"
     },
     "output_type": "display_data"
    }
   ],
   "source": [
    "# 배치정규화 사용 테스트\n",
    "\n",
    "import sys, os\n",
    "sys.path.append(os.pardir) \n",
    "import numpy as np\n",
    "import matplotlib.pyplot as plt\n",
    "from dataset.mnist import load_mnist\n",
    "from common.multi_layer_net_extend import MultiLayerNetExtend\n",
    "from common.optimizer import SGD, Adam\n",
    "\n",
    "(x_train, t_train), (x_test, t_test) = load_mnist(normalize=True)\n",
    "\n",
    "x_train = x_train[:1000]\n",
    "t_train = t_train[:1000]\n",
    "\n",
    "max_epochs = 20\n",
    "train_size = x_train.shape[0]\n",
    "batch_size = 100\n",
    "learning_rate = 0.01\n",
    "\n",
    "\n",
    "def __train(weight_init_std):\n",
    "    bn_network = MultiLayerNetExtend(input_size=784, hidden_size_list=[100, 100, 100, 100, 100], output_size=10, \n",
    "                                    weight_init_std=weight_init_std, use_batchnorm=True)\n",
    "    network = MultiLayerNetExtend(input_size=784, hidden_size_list=[100, 100, 100, 100, 100], output_size=10,\n",
    "                                weight_init_std=weight_init_std)\n",
    "    optimizer = SGD(lr=learning_rate)\n",
    "    \n",
    "    train_acc_list = []\n",
    "    bn_train_acc_list = []\n",
    "    \n",
    "    iter_per_epoch = max(train_size / batch_size, 1)\n",
    "    epoch_cnt = 0\n",
    "    \n",
    "    for i in range(1000000000):\n",
    "        batch_mask = np.random.choice(train_size, batch_size)\n",
    "        x_batch = x_train[batch_mask]\n",
    "        t_batch = t_train[batch_mask]\n",
    "    \n",
    "        for _network in (bn_network, network):\n",
    "            grads = _network.gradient(x_batch, t_batch)\n",
    "            optimizer.update(_network.params, grads)\n",
    "    \n",
    "        if i % iter_per_epoch == 0:\n",
    "            train_acc = network.accuracy(x_train, t_train)\n",
    "            bn_train_acc = bn_network.accuracy(x_train, t_train)\n",
    "            train_acc_list.append(train_acc)\n",
    "            bn_train_acc_list.append(bn_train_acc)\n",
    "    \n",
    "            print(\"epoch:\" + str(epoch_cnt) + \" | \" + str(train_acc) + \" - \" + str(bn_train_acc))\n",
    "    \n",
    "            epoch_cnt += 1\n",
    "            if epoch_cnt >= max_epochs:\n",
    "                break\n",
    "                \n",
    "    return train_acc_list, bn_train_acc_list\n",
    "\n",
    "\n",
    "weight_scale_list = np.logspace(0, -4, num=16)\n",
    "x = np.arange(max_epochs)\n",
    "\n",
    "for i, w in enumerate(weight_scale_list):\n",
    "    print( \"============== \" + str(i+1) + \"/16\" + \" ==============\")\n",
    "    train_acc_list, bn_train_acc_list = __train(w)\n",
    "    \n",
    "    plt.subplot(4,4,i+1)\n",
    "    plt.title(\"W:\" + str(w))\n",
    "    if i == 15:\n",
    "        plt.plot(x, bn_train_acc_list, label='Batch Normalization', markevery=2)\n",
    "        plt.plot(x, train_acc_list, linestyle = \"--\", label='Normal(without BatchNorm)', markevery=2)\n",
    "    else:\n",
    "        plt.plot(x, bn_train_acc_list, markevery=2)\n",
    "        plt.plot(x, train_acc_list, linestyle=\"--\", markevery=2)\n",
    "\n",
    "    plt.ylim(0, 1.0)\n",
    "    if i % 4:\n",
    "        plt.yticks([])\n",
    "    else:\n",
    "        plt.ylabel(\"accuracy\")\n",
    "    if i < 12:\n",
    "        plt.xticks([])\n",
    "    else:\n",
    "        plt.xlabel(\"epochs\")\n",
    "    plt.legend(loc='lower right')\n",
    "    \n",
    "plt.show()"
   ]
  },
  {
   "cell_type": "code",
   "execution_count": null,
   "metadata": {},
   "outputs": [],
   "source": []
  }
 ],
 "metadata": {
  "kernelspec": {
   "display_name": "Python 3",
   "language": "python",
   "name": "python3"
  },
  "language_info": {
   "codemirror_mode": {
    "name": "ipython",
    "version": 3
   },
   "file_extension": ".py",
   "mimetype": "text/x-python",
   "name": "python",
   "nbconvert_exporter": "python",
   "pygments_lexer": "ipython3",
   "version": "3.7.6"
  }
 },
 "nbformat": 4,
 "nbformat_minor": 4
}
