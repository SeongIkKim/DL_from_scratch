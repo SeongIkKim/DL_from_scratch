{
 "cells": [
  {
   "cell_type": "code",
   "execution_count": 1,
   "metadata": {},
   "outputs": [],
   "source": [
    "# w는 가중치, theta는 임계값을 의미한다.\n",
    "# 퍼셉트론은 다음과 같이 동작한다.\n",
    "# (w1 * x1) + (w2 * x2) > theta 일 경우 1을 반환한다.\n",
    "# (w1 * x1) + (w2 * x2) <= theta 일 경우 0을 반환한다."
   ]
  },
  {
   "cell_type": "code",
   "execution_count": 6,
   "metadata": {},
   "outputs": [
    {
     "name": "stdout",
     "output_type": "stream",
     "text": [
      "0\n",
      "0\n",
      "0\n",
      "1\n"
     ]
    }
   ],
   "source": [
    "# AND 게이트 구현\n",
    "\n",
    "def AND(x1, x2):\n",
    "    w1, w2, theta = 0.5, 0.5, 0.7 \n",
    "    tmp = x1*w1 + x2*w2\n",
    "    if tmp <= theta:\n",
    "        return 0\n",
    "    elif tmp > theta:\n",
    "        return 1\n",
    "\n",
    "print(AND(0, 0))\n",
    "print(AND(1, 0))\n",
    "print(AND(0, 1))\n",
    "print(AND(1, 1))"
   ]
  },
  {
   "cell_type": "code",
   "execution_count": 7,
   "metadata": {},
   "outputs": [
    {
     "name": "stdout",
     "output_type": "stream",
     "text": [
      "[0.  0.5]\n",
      "0.5\n",
      "-0.19999999999999996\n"
     ]
    }
   ],
   "source": [
    "# theta를 -b로 치환하여, bias(편향)이라고 부른다.\n",
    "# 위의 AND 게이트를 바꾸어 보자.\n",
    "\n",
    "import numpy as np\n",
    "x = np.array([0,1]) # 입력\n",
    "w = np.array([0.5, 0.5]) # 가중치\n",
    "b = -0.7 # 편향\n",
    "\n",
    "print(w*x) # 입력 * 가중치\n",
    "print(np.sum(w*x)) # [입력 * 가중치]들의 합\n",
    "print(np.sum(w*x)+b) # 위의 합에 편향을 더함\n",
    "\n",
    "y = np.sum(w*x)+b\n",
    "\n",
    "# y > 0 이면 퍼셉트론은 1을 출력하고, 그렇지 않으면 0을 출력한다."
   ]
  },
  {
   "cell_type": "code",
   "execution_count": 8,
   "metadata": {},
   "outputs": [],
   "source": [
    "# 가중치와 편향을 도입하여 AND 게이트 구현\n",
    "\n",
    "def AND(x1, x2):\n",
    "    x = np.array([x1, x2])\n",
    "    w = np.array([w1, w2])\n",
    "    b = -0.7\n",
    "    tmp = np.sum(w*x) + b\n",
    "    if tmp <= 0:\n",
    "        return 0\n",
    "    elif tmp > 0:\n",
    "        return 1\n",
    "\n",
    "# 가중치 w는 각 입력신호가 결과에 주는 영향력(중요도)를 조절하는 매개변수\n",
    "# 편향 b는 뉴런이 얼마나 쉽게 활성화(결과로 1을 출력)하느냐를 조정하는 매개변수\n",
    "# 예를들어 b가 -0.1이면 입력*가중치 합이 0.1만 초과하여도 활성화하지만, b가 -20.0이면 입력*가중치 합이 20을 초과하여야만 활성화됨"
   ]
  },
  {
   "cell_type": "code",
   "execution_count": 9,
   "metadata": {},
   "outputs": [],
   "source": [
    "# NAND 게이트 구현\n",
    "# AND와는 가중치(w)와 편향(b)만 다르다.\n",
    "\n",
    "def NAND(x1, x2):\n",
    "    x = np.array([x1, x2])\n",
    "    w = np.array([-0.5, -0.5])\n",
    "    b = 0.7 # 입력*가중치가 모두 더해져야 편향의 절대값을 넘어서서 음수로 만든다(0을 출력한다)\n",
    "    tmp = np.sum(w*x) + b\n",
    "    if tmp <= 0:\n",
    "        return 0\n",
    "    elif tmp > 0:\n",
    "        return 1"
   ]
  },
  {
   "cell_type": "code",
   "execution_count": 10,
   "metadata": {},
   "outputs": [],
   "source": [
    "# OR 게이트 구현\n",
    "# AND와는 가중치(w)와 편향(b)만 다르다.\n",
    "\n",
    "def OR(x1, x2):\n",
    "    x = np.array([x1, x2])\n",
    "    w = np.array([0.5, 0.5])\n",
    "    b = -0.2 # 입력*가중치가 하나만 더해져도 편향의 절댓값을 넘어서서 양수로 만든다(1을 출력한다)\n",
    "    tmp = np.sum(w*x) + b\n",
    "    if tmp <= 0:\n",
    "        return 0\n",
    "    elif tmp > 0:\n",
    "        return 1"
   ]
  },
  {
   "cell_type": "code",
   "execution_count": null,
   "metadata": {},
   "outputs": [],
   "source": []
  }
 ],
 "metadata": {
  "kernelspec": {
   "display_name": "Python 3",
   "language": "python",
   "name": "python3"
  },
  "language_info": {
   "codemirror_mode": {
    "name": "ipython",
    "version": 3
   },
   "file_extension": ".py",
   "mimetype": "text/x-python",
   "name": "python",
   "nbconvert_exporter": "python",
   "pygments_lexer": "ipython3",
   "version": "3.7.6"
  }
 },
 "nbformat": 4,
 "nbformat_minor": 4
}
