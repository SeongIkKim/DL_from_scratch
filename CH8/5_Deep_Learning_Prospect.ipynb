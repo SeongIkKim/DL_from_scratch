{
 "cells": [
  {
   "cell_type": "code",
   "execution_count": null,
   "metadata": {},
   "outputs": [],
   "source": [
    "# 딥러닝의 가능성과 미래\n",
    "\n",
    "# 이미지 스타일(화풍) 변환\n",
    "'''\n",
    "두 이미지를 입력하면 새로운 그림을 생성해준다. 하나는 '컨텐츠 이미지', 하나는 '스타일 이미지'.\n",
    "컨텐츠 이미지에 스타일 이미지의 화풍을 적용시켜 새로운 그림을 만들어준다.\n",
    "\n",
    "네트워크의 중간 데이터가 컨텐츠 이미지의 중간 데이터와 비슷해지도록 학습하여 입력 이미지의 모양을 만든뒤,\n",
    "스타일 이미지의 화풍을 흡수한 '스타일 행렬'과 오차를 줄이도록 다시 학습시켜 화풍을 적용시키는것이다.\n",
    "'''"
   ]
  },
  {
   "cell_type": "code",
   "execution_count": null,
   "metadata": {},
   "outputs": [],
   "source": [
    "# 이미지 생성\n",
    "'''\n",
    "대량의 이미지를 사용하여 학습한 뒤, 학습이 끝난 후에는 아무런 입력 이미지 없이도 새로운 그림을 그려낸다.\n",
    "DCGAN(Depp Convolutional Generative Adversarial Network)기법으로 생성한 침실 이미지들이 그 예.\n",
    "\n",
    "생성자Generator와 식별자Discriminator로 불리는 2개의 신경망을 이용한다.\n",
    "생성자가 진짜와 똑같은 이미지를 생성하고, 식별자는 그것이 진짜인지 판별해 둘을 겨루도록 학습시킨다.\n",
    "이처럼 두 신경망의 능력을 서로 갈고닦아 높은 수준에 도달하게 하는 개념이 GAN(Generative Adversarial Network)의 재미난 점이다.\n",
    "'''\n",
    "# 이전까지 살펴본 머신러닝 문제는 지도 학습supervised learning 유형이었다.\n",
    "# 지도학습에서는 이미지 데이터와 정답 레이블을 짝지은 데이터셋을 이용해 학습한다.\n",
    "# 그러나 이미지 생성에서 사용되는 머신러닝 유형은 자율 학습unsupervised learning 문제이다."
   ]
  },
  {
   "cell_type": "code",
   "execution_count": null,
   "metadata": {},
   "outputs": [],
   "source": [
    "# 자율 주행\n",
    "'''\n",
    "주위 환경을 올바로 인식하게 되면 자율 주행의 실현도 멀지 않을지 모른다.\n",
    "SegNet이라는 CNN 기반 신경망은 주변 환경 이미지를 분할(픽셀 수준에서 판정)하여 어느정도 정확히 판별하고 있다.\n",
    "'''"
   ]
  },
  {
   "cell_type": "code",
   "execution_count": null,
   "metadata": {},
   "outputs": [],
   "source": [
    "# 강화 학습reinforcement learning\n",
    "'''\n",
    "시행착오 과정에서 컴퓨터가 스스로 학습하게 하도록 하는 것.\n",
    "'가르침'에 의존하는 '지도 학습'과는 다른 분야이다.\n",
    "\n",
    "에이전트는 환경에 맞게 행동을 선택하고, 그 행동에 의해 환경이 변하면 에이전트는 어떠한 보상(관찰)을 얻는다.\n",
    "에이전트는 더 나은 보상을 받는 방향으로 행동지침을 수정한다.\n",
    "이 때 보상은 정해진 것이 아니라 '예상 보상'이라는 점이 중요하다. 이런 불명확한 상황에서는 명확한 지표로부터 역산해서 '예상 보상'을 정해야 한다.\n",
    "\n",
    "Q학습이라는 강화학습 알고리즘은 최적 행동 가치 함수로 최적인 행동을 정한다.\n",
    "이를 딥러닝(CNN)으로 흉내내어 사용하는 것이 DQN(Deep Q-Network)이다.\n",
    "\n",
    "이러한 신경망 학습을 통해 비디오 게임 영상을 보여주고 조작을 학습하게 하는등, 수많은 게임을 학습하게 할 수 있으며, 사람보다 나은 성적을 거두고 있다.\n",
    "세간에 화제였던 알파고와 DQN 모두 구글 DeepMind가 진행한 연구이다.\n",
    "'''"
   ]
  },
  {
   "cell_type": "code",
   "execution_count": null,
   "metadata": {},
   "outputs": [],
   "source": [
    "# 이번 장에서 배운 내용 정리\n",
    "\n",
    "# 수많은 문제에서 신경망을 더 깊게 하여 성능을 개선할 수 있다.\n",
    "# 이미지 인식 기술 대회인 LSVRC에서는 최근 딥러닝 기반 기법이 상위권을 독점하고 있으며, 그 깊이도 더 깊어지는 추세다.\n",
    "# 유명한 신경망으로는 VGG, GoogLeNet, ResNet등이 있다.\n",
    "# GPU와 분산 학습, 비트 정밀도 감소 등으로 딥러닝을 고속화 할 수 있다.\n",
    "# 딥러닝(신경망)은 사물 인식 뿐 아니라 사물 검출과 분할에도 이용할 수 있다.\n",
    "# 딥러닝의 응용분야로는 사진의 캡션 생성, 이미지 생성, 강화학습 등이 있다. 최근에는 자율 주행에도 딥러닝을 접목하고 있어 기대가 된다."
   ]
  }
 ],
 "metadata": {
  "kernelspec": {
   "display_name": "Python 3",
   "language": "python",
   "name": "python3"
  },
  "language_info": {
   "codemirror_mode": {
    "name": "ipython",
    "version": 3
   },
   "file_extension": ".py",
   "mimetype": "text/x-python",
   "name": "python",
   "nbconvert_exporter": "python",
   "pygments_lexer": "ipython3",
   "version": "3.7.6"
  }
 },
 "nbformat": 4,
 "nbformat_minor": 4
}
