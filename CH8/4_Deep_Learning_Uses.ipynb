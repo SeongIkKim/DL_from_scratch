{
 "cells": [
  {
   "cell_type": "code",
   "execution_count": 1,
   "metadata": {},
   "outputs": [],
   "source": [
    "# 딥러닝의 활용\n",
    "\n",
    "# 지금까지 살펴봤던 손글씨 숫자인식(사물 인식) 외에도 이미지, 음성, 자연어 처리 등 수많은 분야에서 딥러닝이 활용될 수 있다.\n",
    "# 지금부터 그 활용 예를 살펴보자."
   ]
  },
  {
   "cell_type": "code",
   "execution_count": null,
   "metadata": {},
   "outputs": [],
   "source": [
    "# 사물 검출\n",
    "# 이미지 속에 담긴 사물의 위치와 종류(클래스)를 알아내는것\n",
    "# 이미지 전체가 대상이 아니고, 사물의 위치가 이미지 내의 어디인지 모를 뿐만 아니라 몇개 있는지도 알 수 없는 어려운 문제\n",
    "\n",
    "# CNN을 기반으로 한 몇가지 기법이 좋은 효과를 보여주었다.\n",
    "# 특히 R-CNN(Regions with CNN)\n",
    "'''\n",
    "처리 흐름 : 1.입력 이미지 - 2.후보 영역 추출 - 3.추출한 영역에 대한 CNN 특징 계산 - 4.영역 분류\n",
    "중요한 스텝은 2와 3으로, 후보영역 추출에는 컴퓨터 비전 분야에서 발전해온 다양한 기법을 사용한다.(R-CNN에서는 Selective Search 기법)\n",
    "최근은 이 후보 영역 추출까지 CNN으로 처리하는 Faster R-CNN도 등장했다.\n",
    "'''"
   ]
  },
  {
   "cell_type": "code",
   "execution_count": null,
   "metadata": {},
   "outputs": [],
   "source": [
    "# 분할\n",
    "# 이미지를 픽셀 수준에서 분류한다.\n",
    "\n",
    "# 특히 FCN(FUlly Convolutional Network)\n",
    "'''\n",
    "픽셀 단위로 객체마다 채색된 지도supervised 데이터를 사용하여 학습하고, 추론할 때 입력 이미지의 모든 픽셀을 분류한다.\n",
    "\n",
    "모든 픽셀을 각각 추론하는 것은 단순하지만 너무 오래걸리는 방법이므로(정확히는 합성곱 연산에서 많은 영역을 중복해서 처리해야해서 시간이 오래걸린다)\n",
    "이러한 낭비를 줄여주는 기법으로 FCN이 도입되었다.\n",
    "직역하면 '합성곱 계층만으로 구성된 네트워크'로, 일반적 CNN이 완전연결 계층을 이용하는 반면 FCN은 완전연결 계층은 '같은 기능을 하는 합성곱 계층'으로 바꾼다.\n",
    "\n",
    "이에 따라 공간 차원을 1차원으로 변환하지 않고 유지한 채 마지막 출력까지 처리 가능하다.\n",
    "또한, 마지막에 공간 크기를 확대하는 처리를 도입하여, 중간 데이터를 입력 이미지와 같은 크기까지 단번에 확대할 수 있다.\n",
    "'''\n",
    "# 완전연결 계층은 출력이 모든 입력과 연결되는데, 데이터 수만큼 필터를 준비한다면 합성곱 계층에서도 완전히 같은 처리를 할 수 있다."
   ]
  },
  {
   "cell_type": "code",
   "execution_count": null,
   "metadata": {},
   "outputs": [],
   "source": [
    "# 사진 캡션 생성\n",
    "# 컴퓨터 비전과 자연어를 융합하여 사진에 캡션 문장을 자동으로 생성하는 기술\n",
    "\n",
    "# 특히 NIC(Neural Image Caption)\n",
    "'''\n",
    "심층 CNN과 자연어를 다루는 순환신경망(Recurrect Neural Network, RNN)으로 구성된다.\n",
    "CNN에서 사진 특징을 추출하고, 그 특징을 RNN에 넘겨 추출한 특징을 초깃값으로 해서 텍스트를 '순환적'으로 생성한다.\n",
    "이처럼 여러 종류의 정보를 조합하고 처리하는 것을 멀티모달 처리multimodal processing라고 하며, 최근에 주목받는 분야이다.\n",
    "'''\n",
    "# RNN의 R은 Recurrect(순환적)을 의미하며, 신경망의 이전 생성 정보를 기억하고 있다가 추후 정보의 생성에 영향을 주는 방식이다.\n",
    "# 예를 들어 '나'라는 단어를 생성한 뒤 추후에 '잤다'라는 단어를 생성하면 먼저 만든 단어인 '나'의 영향을 받아 '는'이라는 조사가 자동으로 생성되고, 결과적으로 '나는 잤다'라는 문장이 만들어진다.\n",
    "# 이처럼 자연어와 시계열 데이터 등 연속성 있는 데이터를 다룰 때 사용된다."
   ]
  }
 ],
 "metadata": {
  "kernelspec": {
   "display_name": "Python 3",
   "language": "python",
   "name": "python3"
  },
  "language_info": {
   "codemirror_mode": {
    "name": "ipython",
    "version": 3
   },
   "file_extension": ".py",
   "mimetype": "text/x-python",
   "name": "python",
   "nbconvert_exporter": "python",
   "pygments_lexer": "ipython3",
   "version": "3.7.6"
  }
 },
 "nbformat": 4,
 "nbformat_minor": 4
}
