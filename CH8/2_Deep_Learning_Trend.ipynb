{
 "cells": [
  {
   "cell_type": "code",
   "execution_count": 1,
   "metadata": {},
   "outputs": [],
   "source": [
    "# 이미지 인식 기술을 겨루는 곳인 ILSVRC에서 2012년 AlexNet 이후로 우승팀은 매번 딥러닝 팀이었다.\n",
    "# 이후 이 대회에서 사용된 딥러닝 기법 중 VGG, GoogLeNet, ResNet은 특히 유명하다."
   ]
  },
  {
   "cell_type": "code",
   "execution_count": null,
   "metadata": {},
   "outputs": [],
   "source": [
    "# VGG\n",
    "'''\n",
    "합성곱 계층과 풀링 계층으로 구성되며, 비중있는 층(합성곱 계층, 완전연결 계층)을 모두 16층(혹은 19층)으로 심화한 것이 특징.\n",
    "3x3의 작은 필터를 사용한 합성곱 계층을 연속으로 거치며, 2~4회 연속으로 풀링 계층을 두어 크기를 절반으로 줄이는 처리를 반복한다.\n",
    "'''"
   ]
  },
  {
   "cell_type": "code",
   "execution_count": null,
   "metadata": {},
   "outputs": [],
   "source": [
    "# GoogLeNet\n",
    "'''\n",
    "기본적으로는 지금까지 보아온 CNN과 다르지 않지만, 세로 방향 깊이(층 깊이) 뿐만 아니라 가로방향 깊이(한 층에서 사용되는 연산의 갯수)도 깊다.\n",
    "이를 '인셉션 구조'라고 하며, 크기가 다른 필터(와 풀링)을 여러개 적용하여 그 결과를 결합한다.\n",
    "특히 1x1크기의 필터를 사용한 합성곱 계층을 많은 곳에서 사용하는데, 이를 통해 채널 쪽으로 크기를 줄여 매개변수 제거와 고속 처리에 기여한다.\n",
    "'''"
   ]
  },
  {
   "cell_type": "code",
   "execution_count": null,
   "metadata": {},
   "outputs": [],
   "source": [
    "# ResNet(Residual Network)\n",
    "'''\n",
    "마이크로소프트 팀이 개발한 네트워크로, 그 이전까지의 딥러닝보다 층을 더 깊게 할 수 있는 '장치'를 가지고 있다.\n",
    "딥러닝에서 층이 지나치게 깊으면 학습이 잘 되지 않고, 오히려 성능이 떨어지는 경우도 많은데, ResNet에서 그런 문제를 해결하기 위해 스킵 연결skip connection을 도입한다.(물론 여전히 층 개수에 한계는 있다)\n",
    "스킵 연결은 입력 x를 출력에 바로 연결하여 출력이 F(x)가 아닌 F(x) + x가 되도록 하는 것인데, 역전파 때 스킵 연결이 신호 감쇠를 막아주게 된다.\n",
    "역전파 때 상류의 기울기를 하류로 그대로 보내므로, 기울기가 지나치게 작아지거나 커질 염려 없이 '의미있는 기울기'가 전달되기 때문이다. 이를 통해 기울기 소실 문제를 해결한다.\n",
    "이런 스킵 연결 기법의 도입으로 층을 아주 깊게 하는것(150층 이상)이 가능해져 정확도를 경이적으로 개선할 수 있게 되었다.\n",
    "'''"
   ]
  },
  {
   "cell_type": "code",
   "execution_count": 2,
   "metadata": {},
   "outputs": [],
   "source": [
    "# 전이 학습transfer learning\n",
    "\n",
    "# 학습된 가중치(혹은 그 일부)를 다른 신경망에 복사한 뒤, 그 상태로 재학습을 수행한다.\n",
    "# 거대한 데이터셋으로 학습한 가중치 값들은 실제 제품에 매개변수를 가져다가 활용해도 효과적이고, 실제로도 많이들 그렇게 하고 있다.\n",
    "# 이러한 방식은 보유한 데이터셋이 적을 때 특히 유용한 방법이다."
   ]
  },
  {
   "cell_type": "code",
   "execution_count": null,
   "metadata": {},
   "outputs": [],
   "source": []
  }
 ],
 "metadata": {
  "kernelspec": {
   "display_name": "Python 3",
   "language": "python",
   "name": "python3"
  },
  "language_info": {
   "codemirror_mode": {
    "name": "ipython",
    "version": 3
   },
   "file_extension": ".py",
   "mimetype": "text/x-python",
   "name": "python",
   "nbconvert_exporter": "python",
   "pygments_lexer": "ipython3",
   "version": "3.7.6"
  }
 },
 "nbformat": 4,
 "nbformat_minor": 4
}
