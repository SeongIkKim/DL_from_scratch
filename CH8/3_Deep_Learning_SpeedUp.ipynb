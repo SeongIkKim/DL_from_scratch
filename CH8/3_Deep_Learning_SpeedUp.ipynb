{
 "cells": [
  {
   "cell_type": "code",
   "execution_count": 1,
   "metadata": {},
   "outputs": [],
   "source": [
    "# 딥러닝 고속화\n",
    "\n",
    "'''\n",
    "딥러닝의 대량 연산 수행을 이전에는 CPU가 담당했으나, 최근에는 대부분의 프레임워크들이 GPU를 활용해 연산을 고속처리중이다.\n",
    "신경망의 forward 처리에는 합성곱 계층에서 대부분의 시간(90% 내외)을 소요한다.\n",
    "합성곱 계층의 계산은 단일 곱셈-누산 처리이므로, 연속적 복잡한 계산 처리에 특화된 CPU보다 대량 병렬연산에 특화된 GPU가 더 최적이다.\n",
    "합성곱 계층의 im2col 연산처럼 '작은' 단위의 계산을 '큰 덩어리'로 만들어 한번에 계산하는 방식은 GPU에 더 유리하다.\n",
    "GPU의 양대 회사로는 엔비디아와 AMD가 있지만, 좀 더 딥러닝에 친화된 쪽은 엔비디아(2016년 기준)\n",
    "엔비디아의 GPU 컴퓨팅 통합 개발환경 CUDA만이 cuDNN이라는 딥러닝 최적화 함수 라이브러리를 제공한다.\n",
    "'''"
   ]
  },
  {
   "cell_type": "code",
   "execution_count": null,
   "metadata": {},
   "outputs": [],
   "source": [
    "# 분산학습\n",
    "\n",
    "'''\n",
    "딥러닝은 수많은 시행착오를 반복해야하지만, 심층 신경망 학습에는 며칠 혹은 몇주라는 오랜 시간이 걸리므로 1회 학습에 걸리는 시간을 단축하려는 시도는 필수적이다.\n",
    "따라서 딥러닝 학습을 수평확장scale out하자는 아이디어(즉, '분산 학습')가 중요해진다.\n",
    "다수의 GPU와 컴퓨터를 이용한 분산학습을 지원하는 딥러닝 프레임워크의 예로 구글의 텐서플로우, 마이크로소프트의 CNTK 등이 있다.\n",
    "계산을 어떻게 분산시키느냐의 문제는 어려운 문제이므로 텐서플로우 등의 뛰어난 프레임워크의 기술 논문을 참조하자.\n",
    "'''"
   ]
  },
  {
   "cell_type": "code",
   "execution_count": null,
   "metadata": {},
   "outputs": [],
   "source": [
    "# 연산 정밀도와 비트 줄이기\n",
    "\n",
    "'''\n",
    "메모리 용량, 버스 대역폭 등이 딥러닝 고속화에 병목이 될 수도 있다.\n",
    "대량의 가중치 매개변수와 중간 데이터를 메모리에 저장해야하며(메모리 용량), GPU 혹은 CPU의 버스를 흐르는 데이터가 한계를 넘어서면 병목이 일어난다(버스 대역폭).\n",
    "\n",
    "컴퓨터에서는 주로 64비트나 32비트 부동소수점 수를 사용해 실수를 표현하여 계산 오차를 줄이지만, 그만큼 계산에 드는 비용과 메모리 사용량이 늘고 버스 대역폭에 부담이 된다.\n",
    "다행히 딥러닝에서는 높은 수치 정밀도가 필요하지는 않기 때문에(노이즈를 무시할 수 있는 신경망의 '견고성'), 신경망에 흐르는 데이터를 16비트 반정밀도half-precision까지 퇴화시켜도 학습에 문제가 없다고 한다.\n",
    "\n",
    "딥러닝 고속화를 위해 비트를 줄이는 기술은 앞으로 주목받는 분야이며, 특히 임베디드용으로 이용할 때 중요한 주제이다.\n",
    "'''"
   ]
  },
  {
   "cell_type": "code",
   "execution_count": null,
   "metadata": {},
   "outputs": [],
   "source": []
  }
 ],
 "metadata": {
  "kernelspec": {
   "display_name": "Python 3",
   "language": "python",
   "name": "python3"
  },
  "language_info": {
   "codemirror_mode": {
    "name": "ipython",
    "version": 3
   },
   "file_extension": ".py",
   "mimetype": "text/x-python",
   "name": "python",
   "nbconvert_exporter": "python",
   "pygments_lexer": "ipython3",
   "version": "3.7.6"
  }
 },
 "nbformat": 4,
 "nbformat_minor": 4
}
